{
  "cells": [
    {
      "cell_type": "markdown",
      "metadata": {
        "id": "view-in-github",
        "colab_type": "text"
      },
      "source": [
        "<a href=\"https://colab.research.google.com/github/Nerd-A/GoogleStockPrediction/blob/main/GoogleStockPrediction.ipynb\" target=\"_parent\"><img src=\"https://colab.research.google.com/assets/colab-badge.svg\" alt=\"Open In Colab\"/></a>"
      ]
    },
    {
      "cell_type": "code",
      "execution_count": null,
      "metadata": {
        "id": "V799qdjJ7Y6J"
      },
      "outputs": [],
      "source": [
        "import numpy as np\n",
        "import pandas as pd\n",
        "import matplotlib.pyplot as plot\n",
        "%matplotlib inline "
      ]
    },
    {
      "cell_type": "code",
      "execution_count": null,
      "metadata": {
        "id": "vSuHmMY_5k9t"
      },
      "outputs": [],
      "source": [
        "data_set_train = pd.read_csv(\"https://raw.githubusercontent.com/Parasgr7/Google-Stock-Price-Prediction/master/Google_Stock_Price_Train.csv\")"
      ]
    },
    {
      "cell_type": "code",
      "execution_count": null,
      "metadata": {
        "colab": {
          "base_uri": "https://localhost:8080/"
        },
        "id": "z43m8nV15wJV",
        "outputId": "06125d60-13b8-4019-bb08-9702628e5bdb"
      },
      "outputs": [
        {
          "name": "stdout",
          "output_type": "stream",
          "text": [
            "            Date    Open    High     Low   Close      Volume\n",
            "0       1/3/2012  325.25  332.83  324.97  663.59   7,380,500\n",
            "1       1/4/2012  331.27  333.87  329.08  666.45   5,749,400\n",
            "2       1/5/2012  329.83  330.75  326.89  657.21   6,590,300\n",
            "3       1/6/2012  328.34  328.77  323.68  648.24   5,405,900\n",
            "4       1/9/2012  322.04  322.29  309.46  620.76  11,688,800\n",
            "...          ...     ...     ...     ...     ...         ...\n",
            "1253  12/23/2016  790.90  792.74  787.28  789.91     623,400\n",
            "1254  12/27/2016  790.68  797.86  787.66  791.55     789,100\n",
            "1255  12/28/2016  793.70  794.23  783.20  785.05   1,153,800\n",
            "1256  12/29/2016  783.33  785.93  778.92  782.79     744,300\n",
            "1257  12/30/2016  782.75  782.78  770.41  771.82   1,770,000\n",
            "\n",
            "[1258 rows x 6 columns]\n"
          ]
        }
      ],
      "source": [
        "print(data_set_train)"
      ]
    },
    {
      "cell_type": "code",
      "execution_count": null,
      "metadata": {
        "id": "GyySykyq7hg5"
      },
      "outputs": [],
      "source": [
        "data_set_test = pd.read_csv(\"https://raw.githubusercontent.com/Parasgr7/Google-Stock-Price-Prediction/master/Google_Stock_Price_Test.csv\")\n",
        "actual_stock_price = data_set_test.iloc[:,1:2].values"
      ]
    },
    {
      "cell_type": "code",
      "execution_count": null,
      "metadata": {
        "colab": {
          "base_uri": "https://localhost:8080/"
        },
        "id": "rSWqFJQ575JJ",
        "outputId": "0b57bf56-eeeb-4845-b73e-24e262805c6c"
      },
      "outputs": [
        {
          "name": "stdout",
          "output_type": "stream",
          "text": [
            "[[325.25]\n",
            " [331.27]\n",
            " [329.83]\n",
            " ...\n",
            " [793.7 ]\n",
            " [783.33]\n",
            " [782.75]]\n",
            "(1258, 1)\n"
          ]
        }
      ],
      "source": [
        "training_set = data_set_train.iloc[:,1:2].values\n",
        "print(training_set)\n",
        "print(training_set.shape)"
      ]
    },
    {
      "cell_type": "code",
      "execution_count": null,
      "metadata": {
        "colab": {
          "base_uri": "https://localhost:8080/"
        },
        "id": "Fa6lF6Ba-qfo",
        "outputId": "8be02c88-9578-4be9-af5a-dcb84b87aa46"
      },
      "outputs": [
        {
          "data": {
            "text/plain": [
              "array([[0.08581368],\n",
              "       [0.09701243],\n",
              "       [0.09433366],\n",
              "       ...,\n",
              "       [0.95725128],\n",
              "       [0.93796041],\n",
              "       [0.93688146]])"
            ]
          },
          "execution_count": 10,
          "metadata": {},
          "output_type": "execute_result"
        }
      ],
      "source": [
        "from sklearn.preprocessing import MinMaxScaler\n",
        "scaler = MinMaxScaler(feature_range=(0,1))\n",
        "scaled_data = scaler.fit_transform(training_set)\n",
        "scaled_data"
      ]
    },
    {
      "cell_type": "code",
      "execution_count": null,
      "metadata": {
        "id": "D1v7PR7CgbRr"
      },
      "outputs": [],
      "source": [
        "x_train=[]\n",
        "y_train=[]\n",
        "for i in range(60,1258):\n",
        "  x_train.append(scaled_data[i-60:i,0])\n",
        "  y_train.append(scaled_data[i,0])\n",
        "x_train = np.array(x_train)\n",
        "y_train = np.array(y_train)\n"
      ]
    },
    {
      "cell_type": "code",
      "execution_count": null,
      "metadata": {
        "colab": {
          "base_uri": "https://localhost:8080/"
        },
        "id": "ZQwFt6OmiiuO",
        "outputId": "c3ce8edd-09d2-4026-f4c7-861bf8be816c"
      },
      "outputs": [
        {
          "name": "stdout",
          "output_type": "stream",
          "text": [
            "(1198, 60)\n",
            "(1198,)\n"
          ]
        }
      ],
      "source": [
        "print(x_train.shape)\n",
        "print(y_train.shape)"
      ]
    },
    {
      "cell_type": "code",
      "execution_count": null,
      "metadata": {
        "colab": {
          "base_uri": "https://localhost:8080/"
        },
        "id": "Z6jKdYi5k1Su",
        "outputId": "81b9c9d2-0e9e-4da5-8405-bfd09662f371"
      },
      "outputs": [
        {
          "name": "stdout",
          "output_type": "stream",
          "text": [
            "[[0.08581368 0.09701243 0.09433366 ... 0.07846566 0.08034452 0.08497656]\n",
            " [0.09701243 0.09433366 0.09156187 ... 0.08034452 0.08497656 0.08627874]\n",
            " [0.09433366 0.09156187 0.07984225 ... 0.08497656 0.08627874 0.08471612]\n",
            " ...\n",
            " [0.92106928 0.92438053 0.93048218 ... 0.95475854 0.95204256 0.95163331]\n",
            " [0.92438053 0.93048218 0.9299055  ... 0.95204256 0.95163331 0.95725128]\n",
            " [0.93048218 0.9299055  0.93113327 ... 0.95163331 0.95725128 0.93796041]]\n"
          ]
        }
      ],
      "source": [
        "print(x_train)"
      ]
    },
    {
      "cell_type": "code",
      "execution_count": null,
      "metadata": {
        "colab": {
          "base_uri": "https://localhost:8080/"
        },
        "id": "cisG5FEUjw0z",
        "outputId": "ac5b0133-a6db-4864-9605-27c612b21732"
      },
      "outputs": [
        {
          "data": {
            "text/plain": [
              "(1198, 60, 1)"
            ]
          },
          "execution_count": 22,
          "metadata": {},
          "output_type": "execute_result"
        }
      ],
      "source": [
        "x_train = np.reshape(x_train,(x_train.shape[0],x_train.shape[1],1))\n",
        "x_train.shape"
      ]
    },
    {
      "cell_type": "code",
      "execution_count": null,
      "metadata": {
        "colab": {
          "base_uri": "https://localhost:8080/"
        },
        "id": "uyE789vzk8pN",
        "outputId": "e0b9ec10-acc2-4357-e66c-13f12df51fc5"
      },
      "outputs": [
        {
          "data": {
            "text/plain": [
              "array([[[0.08581368],\n",
              "        [0.09701243],\n",
              "        [0.09433366],\n",
              "        ...,\n",
              "        [0.07846566],\n",
              "        [0.08034452],\n",
              "        [0.08497656]],\n",
              "\n",
              "       [[0.09701243],\n",
              "        [0.09433366],\n",
              "        [0.09156187],\n",
              "        ...,\n",
              "        [0.08034452],\n",
              "        [0.08497656],\n",
              "        [0.08627874]],\n",
              "\n",
              "       [[0.09433366],\n",
              "        [0.09156187],\n",
              "        [0.07984225],\n",
              "        ...,\n",
              "        [0.08497656],\n",
              "        [0.08627874],\n",
              "        [0.08471612]],\n",
              "\n",
              "       ...,\n",
              "\n",
              "       [[0.92106928],\n",
              "        [0.92438053],\n",
              "        [0.93048218],\n",
              "        ...,\n",
              "        [0.95475854],\n",
              "        [0.95204256],\n",
              "        [0.95163331]],\n",
              "\n",
              "       [[0.92438053],\n",
              "        [0.93048218],\n",
              "        [0.9299055 ],\n",
              "        ...,\n",
              "        [0.95204256],\n",
              "        [0.95163331],\n",
              "        [0.95725128]],\n",
              "\n",
              "       [[0.93048218],\n",
              "        [0.9299055 ],\n",
              "        [0.93113327],\n",
              "        ...,\n",
              "        [0.95163331],\n",
              "        [0.95725128],\n",
              "        [0.93796041]]])"
            ]
          },
          "execution_count": 23,
          "metadata": {},
          "output_type": "execute_result"
        }
      ],
      "source": [
        "x_train"
      ]
    },
    {
      "cell_type": "code",
      "execution_count": null,
      "metadata": {
        "id": "CmIxC96wlC98"
      },
      "outputs": [],
      "source": [
        "from keras.models import Sequential\n",
        "from keras.layers import LSTM\n",
        "from keras.layers import Dense \n",
        "from keras.layers import Dropout"
      ]
    },
    {
      "cell_type": "code",
      "execution_count": null,
      "metadata": {
        "id": "YvaA2SbRuZ3k"
      },
      "outputs": [],
      "source": [
        "reg = Sequential()\n",
        "reg.add(LSTM(units = 50,return_sequences= True,input_shape=(x_train.shape[1],1)))\n",
        "reg.add(Dropout(0.2))\n",
        "\n",
        "reg.add(LSTM(units = 50,return_sequences= True))\n",
        "reg.add(Dropout(0.2))\n",
        "\n",
        "reg.add(LSTM(units = 50,return_sequences= True))\n",
        "reg.add(Dropout(0.2))\n",
        "\n",
        "reg.add(LSTM(units = 50))\n",
        "reg.add(Dropout(0.2))\n",
        "\n",
        "reg.add(Dense(units=1))\n",
        "\n",
        "\n",
        "\n"
      ]
    },
    {
      "cell_type": "code",
      "execution_count": null,
      "metadata": {
        "colab": {
          "background_save": true,
          "base_uri": "https://localhost:8080/"
        },
        "id": "F0DvzpKpyE3b",
        "outputId": "9b681ba0-7ecb-462d-ec29-18bfead84452"
      },
      "outputs": [
        {
          "name": "stdout",
          "output_type": "stream",
          "text": [
            "Epoch 1/100\n",
            "38/38 [==============================] - 12s 125ms/step - loss: 0.0011\n",
            "Epoch 2/100\n",
            "38/38 [==============================] - 5s 126ms/step - loss: 8.2807e-04\n",
            "Epoch 3/100\n",
            "38/38 [==============================] - 5s 127ms/step - loss: 9.7359e-04\n",
            "Epoch 4/100\n",
            "38/38 [==============================] - 5s 125ms/step - loss: 9.6137e-04\n",
            "Epoch 5/100\n",
            "38/38 [==============================] - 5s 125ms/step - loss: 8.4182e-04\n",
            "Epoch 6/100\n",
            "38/38 [==============================] - 5s 125ms/step - loss: 9.0263e-04\n",
            "Epoch 7/100\n",
            "38/38 [==============================] - 5s 125ms/step - loss: 8.6191e-04\n",
            "Epoch 8/100\n",
            "38/38 [==============================] - 5s 124ms/step - loss: 8.9570e-04\n",
            "Epoch 9/100\n",
            "38/38 [==============================] - 5s 126ms/step - loss: 9.2603e-04\n",
            "Epoch 10/100\n",
            "38/38 [==============================] - 5s 124ms/step - loss: 0.0010\n",
            "Epoch 11/100\n",
            "38/38 [==============================] - 5s 126ms/step - loss: 8.9639e-04\n",
            "Epoch 12/100\n",
            "38/38 [==============================] - 5s 126ms/step - loss: 9.0986e-04\n",
            "Epoch 13/100\n",
            "38/38 [==============================] - 5s 124ms/step - loss: 9.9530e-04\n",
            "Epoch 14/100\n",
            "38/38 [==============================] - 5s 124ms/step - loss: 8.6962e-04\n",
            "Epoch 15/100\n",
            "38/38 [==============================] - 5s 126ms/step - loss: 8.7598e-04\n",
            "Epoch 16/100\n",
            "38/38 [==============================] - 5s 126ms/step - loss: 9.1492e-04\n",
            "Epoch 17/100\n",
            "38/38 [==============================] - 5s 125ms/step - loss: 9.4799e-04\n",
            "Epoch 18/100\n",
            "38/38 [==============================] - 5s 126ms/step - loss: 8.8063e-04\n",
            "Epoch 19/100\n",
            "38/38 [==============================] - 5s 125ms/step - loss: 8.3334e-04\n",
            "Epoch 20/100\n",
            "38/38 [==============================] - 5s 126ms/step - loss: 9.3398e-04\n",
            "Epoch 21/100\n",
            "38/38 [==============================] - 5s 142ms/step - loss: 9.5435e-04\n",
            "Epoch 22/100\n",
            "38/38 [==============================] - 5s 124ms/step - loss: 8.7987e-04\n",
            "Epoch 23/100\n",
            "38/38 [==============================] - 5s 124ms/step - loss: 8.2307e-04\n",
            "Epoch 24/100\n",
            "38/38 [==============================] - 5s 125ms/step - loss: 8.1409e-04\n",
            "Epoch 25/100\n",
            "38/38 [==============================] - 5s 125ms/step - loss: 8.2910e-04\n",
            "Epoch 26/100\n",
            "38/38 [==============================] - 5s 123ms/step - loss: 0.0011\n",
            "Epoch 27/100\n",
            "38/38 [==============================] - 5s 122ms/step - loss: 0.0010\n",
            "Epoch 28/100\n",
            "38/38 [==============================] - 5s 124ms/step - loss: 8.5877e-04\n",
            "Epoch 29/100\n",
            "38/38 [==============================] - 5s 123ms/step - loss: 8.6615e-04\n",
            "Epoch 30/100\n",
            "38/38 [==============================] - 5s 123ms/step - loss: 9.0817e-04\n",
            "Epoch 31/100\n",
            "38/38 [==============================] - 5s 123ms/step - loss: 0.0011\n",
            "Epoch 32/100\n",
            "38/38 [==============================] - 5s 123ms/step - loss: 9.5463e-04\n",
            "Epoch 33/100\n",
            "38/38 [==============================] - 5s 124ms/step - loss: 9.1409e-04\n",
            "Epoch 34/100\n",
            "38/38 [==============================] - 5s 123ms/step - loss: 0.0010\n",
            "Epoch 35/100\n",
            "38/38 [==============================] - 5s 125ms/step - loss: 8.3566e-04\n",
            "Epoch 36/100\n",
            "38/38 [==============================] - 5s 122ms/step - loss: 8.1288e-04\n",
            "Epoch 37/100\n",
            "38/38 [==============================] - 5s 123ms/step - loss: 9.6879e-04\n",
            "Epoch 38/100\n",
            "38/38 [==============================] - 5s 124ms/step - loss: 9.3837e-04\n",
            "Epoch 39/100\n",
            "38/38 [==============================] - 5s 123ms/step - loss: 7.9888e-04\n",
            "Epoch 40/100\n",
            "38/38 [==============================] - 5s 122ms/step - loss: 8.5813e-04\n",
            "Epoch 41/100\n",
            "38/38 [==============================] - 5s 123ms/step - loss: 7.8129e-04\n",
            "Epoch 42/100\n",
            "38/38 [==============================] - 5s 123ms/step - loss: 8.3472e-04\n",
            "Epoch 43/100\n",
            "38/38 [==============================] - 5s 122ms/step - loss: 8.6345e-04\n",
            "Epoch 44/100\n",
            "38/38 [==============================] - 5s 122ms/step - loss: 8.2532e-04\n",
            "Epoch 45/100\n",
            "38/38 [==============================] - 5s 122ms/step - loss: 8.4172e-04\n",
            "Epoch 46/100\n",
            "38/38 [==============================] - 5s 122ms/step - loss: 8.4392e-04\n",
            "Epoch 47/100\n",
            "38/38 [==============================] - 5s 122ms/step - loss: 9.5622e-04\n",
            "Epoch 48/100\n",
            "38/38 [==============================] - 5s 122ms/step - loss: 0.0011\n",
            "Epoch 49/100\n",
            "38/38 [==============================] - 5s 121ms/step - loss: 8.9354e-04\n",
            "Epoch 50/100\n",
            "38/38 [==============================] - 5s 123ms/step - loss: 8.6045e-04\n",
            "Epoch 51/100\n",
            "38/38 [==============================] - 5s 124ms/step - loss: 0.0011\n",
            "Epoch 52/100\n",
            "38/38 [==============================] - 5s 124ms/step - loss: 9.8365e-04\n",
            "Epoch 53/100\n",
            "38/38 [==============================] - 5s 124ms/step - loss: 9.3913e-04\n",
            "Epoch 54/100\n",
            "38/38 [==============================] - 5s 124ms/step - loss: 8.6202e-04\n",
            "Epoch 55/100\n",
            "38/38 [==============================] - 5s 122ms/step - loss: 8.6046e-04\n",
            "Epoch 56/100\n",
            "38/38 [==============================] - 5s 124ms/step - loss: 8.3642e-04\n",
            "Epoch 57/100\n",
            "38/38 [==============================] - 5s 122ms/step - loss: 8.7289e-04\n",
            "Epoch 58/100\n",
            "38/38 [==============================] - 5s 123ms/step - loss: 8.9124e-04\n",
            "Epoch 59/100\n",
            "38/38 [==============================] - 5s 125ms/step - loss: 9.3470e-04\n",
            "Epoch 60/100\n",
            "38/38 [==============================] - 5s 124ms/step - loss: 8.2866e-04\n",
            "Epoch 61/100\n",
            "38/38 [==============================] - 5s 123ms/step - loss: 8.7451e-04\n",
            "Epoch 62/100\n",
            "38/38 [==============================] - 5s 126ms/step - loss: 8.8216e-04\n",
            "Epoch 63/100\n",
            "38/38 [==============================] - 5s 123ms/step - loss: 9.1819e-04\n",
            "Epoch 64/100\n",
            "38/38 [==============================] - 5s 125ms/step - loss: 8.2660e-04\n",
            "Epoch 65/100\n",
            "38/38 [==============================] - 5s 124ms/step - loss: 0.0010\n",
            "Epoch 66/100\n",
            "38/38 [==============================] - 5s 124ms/step - loss: 9.5748e-04\n",
            "Epoch 67/100\n",
            "38/38 [==============================] - 5s 123ms/step - loss: 9.2070e-04\n",
            "Epoch 68/100\n",
            "38/38 [==============================] - 5s 123ms/step - loss: 8.6380e-04\n",
            "Epoch 69/100\n",
            "38/38 [==============================] - 5s 125ms/step - loss: 8.0454e-04\n",
            "Epoch 70/100\n",
            "38/38 [==============================] - 5s 125ms/step - loss: 8.8112e-04\n",
            "Epoch 71/100\n",
            "38/38 [==============================] - 5s 125ms/step - loss: 8.3309e-04\n",
            "Epoch 72/100\n",
            "38/38 [==============================] - 5s 125ms/step - loss: 9.9799e-04\n",
            "Epoch 73/100\n",
            "38/38 [==============================] - 5s 125ms/step - loss: 9.2072e-04\n",
            "Epoch 74/100\n",
            "38/38 [==============================] - 5s 125ms/step - loss: 8.1279e-04\n",
            "Epoch 75/100\n",
            "38/38 [==============================] - 5s 126ms/step - loss: 8.6155e-04\n",
            "Epoch 76/100\n",
            "38/38 [==============================] - 5s 125ms/step - loss: 9.5760e-04\n",
            "Epoch 77/100\n",
            "38/38 [==============================] - 5s 125ms/step - loss: 9.0216e-04\n",
            "Epoch 78/100\n",
            "38/38 [==============================] - 5s 123ms/step - loss: 7.9202e-04\n",
            "Epoch 79/100\n",
            "38/38 [==============================] - 5s 125ms/step - loss: 9.3440e-04\n",
            "Epoch 80/100\n",
            "38/38 [==============================] - 5s 140ms/step - loss: 8.0433e-04\n",
            "Epoch 81/100\n",
            "38/38 [==============================] - 5s 125ms/step - loss: 8.8469e-04\n",
            "Epoch 82/100\n",
            "38/38 [==============================] - 5s 123ms/step - loss: 8.4299e-04\n",
            "Epoch 83/100\n",
            "38/38 [==============================] - 5s 124ms/step - loss: 8.5536e-04\n",
            "Epoch 84/100\n",
            "38/38 [==============================] - 5s 124ms/step - loss: 7.6504e-04\n",
            "Epoch 85/100\n",
            "38/38 [==============================] - 5s 127ms/step - loss: 8.3959e-04\n",
            "Epoch 86/100\n",
            "38/38 [==============================] - 5s 126ms/step - loss: 7.2407e-04\n",
            "Epoch 87/100\n",
            "38/38 [==============================] - 5s 124ms/step - loss: 9.3730e-04\n",
            "Epoch 88/100\n",
            "38/38 [==============================] - 5s 125ms/step - loss: 9.1802e-04\n",
            "Epoch 89/100\n",
            "38/38 [==============================] - 5s 124ms/step - loss: 8.5403e-04\n",
            "Epoch 90/100\n",
            "38/38 [==============================] - 5s 124ms/step - loss: 8.2428e-04\n",
            "Epoch 91/100\n",
            "38/38 [==============================] - 5s 123ms/step - loss: 8.9301e-04\n",
            "Epoch 92/100\n",
            "38/38 [==============================] - 5s 123ms/step - loss: 8.9089e-04\n",
            "Epoch 93/100\n",
            "38/38 [==============================] - 5s 122ms/step - loss: 8.5785e-04\n",
            "Epoch 94/100\n",
            "38/38 [==============================] - 5s 123ms/step - loss: 9.1434e-04\n",
            "Epoch 95/100\n",
            "38/38 [==============================] - 5s 122ms/step - loss: 8.2893e-04\n",
            "Epoch 96/100\n",
            "38/38 [==============================] - 5s 122ms/step - loss: 8.2296e-04\n",
            "Epoch 97/100\n",
            "38/38 [==============================] - 5s 122ms/step - loss: 7.9983e-04\n",
            "Epoch 98/100\n",
            "38/38 [==============================] - 5s 122ms/step - loss: 8.4594e-04\n",
            "Epoch 99/100\n",
            "38/38 [==============================] - 5s 121ms/step - loss: 7.6874e-04\n",
            "Epoch 100/100\n",
            "38/38 [==============================] - 5s 124ms/step - loss: 8.8937e-04\n"
          ]
        },
        {
          "data": {
            "text/plain": [
              "<keras.callbacks.History at 0x7fdd71dd7690>"
            ]
          },
          "execution_count": null,
          "metadata": {},
          "output_type": "execute_result"
        }
      ],
      "source": [
        "reg.compile(optimizer='adam',loss='mean_squared_error')\n",
        "reg.fit(x_train,y_train,epochs=100,batch_size=32)"
      ]
    },
    {
      "cell_type": "code",
      "execution_count": null,
      "metadata": {
        "colab": {
          "base_uri": "https://localhost:8080/"
        },
        "id": "DAwOEBeU0u6y",
        "outputId": "3bb2e7c8-67ec-457a-9f74-4f578098f93d"
      },
      "outputs": [
        {
          "data": {
            "text/plain": [
              "array([[778.81],\n",
              "       [788.36],\n",
              "       [786.08],\n",
              "       [795.26],\n",
              "       [806.4 ],\n",
              "       [807.86],\n",
              "       [805.  ],\n",
              "       [807.14],\n",
              "       [807.48],\n",
              "       [807.08],\n",
              "       [805.81],\n",
              "       [805.12],\n",
              "       [806.91],\n",
              "       [807.25],\n",
              "       [822.3 ],\n",
              "       [829.62],\n",
              "       [837.81],\n",
              "       [834.71],\n",
              "       [814.66],\n",
              "       [796.86]])"
            ]
          },
          "execution_count": 31,
          "metadata": {},
          "output_type": "execute_result"
        }
      ],
      "source": [
        "actual_stock_price"
      ]
    },
    {
      "cell_type": "code",
      "execution_count": null,
      "metadata": {
        "id": "QKnW1bw01wHz"
      },
      "outputs": [],
      "source": [
        "dataset=pd.concat((data_set_train['Open'],data_set_test['Open']),axis=0)\n",
        "\n",
        "input = dataset[len(dataset)-len(data_set_test)-60:].values\n",
        "input = input.reshape(-1,1)\n",
        "input = scaler.transform(input)\n",
        "x_test=[]\n",
        "for i in range(60,80):\n",
        "  x_test.append(input[i-60:i,0])\n",
        "x_test = np.array(x_test)\n",
        "x_test = np.reshape(x_test,(x_test.shape[0],x_test.shape[1],1))\n",
        "\n",
        "\n",
        "\n",
        "\n",
        "\n",
        "\n"
      ]
    },
    {
      "cell_type": "code",
      "execution_count": null,
      "metadata": {
        "id": "rO9mSQXp2cR0"
      },
      "outputs": [],
      "source": [
        "predicted_stock_price = reg.predict(x_test)\n",
        "predicted_stock_price = scaler.inverse_transform(predicted_stock_price)"
      ]
    },
    {
      "cell_type": "code",
      "execution_count": null,
      "metadata": {
        "colab": {
          "base_uri": "https://localhost:8080/",
          "height": 312
        },
        "id": "VSCvZ0QQ5kBM",
        "outputId": "e41fc9da-b6a3-45cd-8034-419df08b5ae9"
      },
      "outputs": [
        {
          "data": {
            "text/plain": [
              "<matplotlib.legend.Legend at 0x7fdd7532fbd0>"
            ]
          },
          "execution_count": 40,
          "metadata": {},
          "output_type": "execute_result"
        },
        {
          "data": {
            "image/png": "[encoded data removed]",
            "text/plain": [
              "<Figure size 432x288 with 1 Axes>"
            ]
          },
          "metadata": {},
          "output_type": "display_data"
        }
      ],
      "source": [
        "plot.plot(actual_stock_price,color='red',label='ACTUAL GOOGLE STOCK PRICE')\n",
        "plot.plot(predicted_stock_price,color='blue',label='PREDICTED GOOGLE STOCK PRICE')\n",
        "plot.title('google stock price')\n",
        "plot.xlabel('Time')\n",
        "plot.ylabel('Google Stock Price')\n",
        "plot.legend()"
      ]
    }
  ],
  "metadata": {
    "colab": {
      "name": "GoogleStockPrediction.ipynb",
      "provenance": [],
      "authorship_tag": "ABX9TyPcQ39V6pqelMqEQAYm6AJ5",
      "include_colab_link": true
    },
    "kernelspec": {
      "display_name": "Python 3",
      "name": "python3"
    },
    "language_info": {
      "name": "python"
    }
  },
  "nbformat": 4,
  "nbformat_minor": 0
}